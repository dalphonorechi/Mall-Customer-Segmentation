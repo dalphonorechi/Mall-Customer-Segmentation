{
 "cells": [
  {
   "cell_type": "markdown",
   "id": "3a1b0064-4f30-4af2-bbc1-1a4b8934f243",
   "metadata": {},
   "source": [
    "# Customer Segmentation: KMeans Algorithm"
   ]
  },
  {
   "cell_type": "markdown",
   "id": "bda4fa42-306c-436c-901a-67045827c9f5",
   "metadata": {},
   "source": [
    "In this project, we will be trying to develop an end-to-end data science application. The aim of the project is to perform customer segmentation using Mall customers data with the following attributes:\n",
    "\n",
    "* CustomerID - Unique ID assigned to customer.\n",
    "* Gender - Gender of customer.\n",
    "* Age - Age of Customer.\n",
    "* Annual Income (k$)  - Annual income of cutomer.\n",
    "* Spending Score (1-100) - Score Assigned to cutomer based on bahavior and spending nature.\n",
    "\n",
    "We will be doing segmentation using **Spending Score** and **Annual Income**."
   ]
  },
  {
   "cell_type": "code",
   "execution_count": 150,
   "id": "b59ddbb1-f8a5-4463-a089-1c4de29ebb2d",
   "metadata": {},
   "outputs": [],
   "source": [
    "import os\n",
    "os.environ[\"OMP_NUM_THREADS\"]='1'"
   ]
  },
  {
   "cell_type": "code",
   "execution_count": 151,
   "id": "16835a03-7e4b-4972-8411-8f2eeb2d7680",
   "metadata": {},
   "outputs": [],
   "source": [
    "import pandas as pd\n",
    "from sklearn.cluster import KMeans\n",
    "from sklearn.metrics import silhouette_score\n",
    "from sklearn.model_selection import train_test_split\n",
    "from sklearn.preprocessing import StandardScaler\n",
    "import seaborn as sns\n",
    "import matplotlib.pyplot as plt\n",
    "import numpy as np"
   ]
  },
  {
   "cell_type": "code",
   "execution_count": 152,
   "id": "3bf4d186-5ede-4c73-ae34-e7eedcc09a74",
   "metadata": {},
   "outputs": [],
   "source": [
    "file = 'MallCustomers.csv'"
   ]
  },
  {
   "cell_type": "code",
   "execution_count": 153,
   "id": "a2f1b1e6-4947-4662-b6c0-db38c1e784de",
   "metadata": {},
   "outputs": [],
   "source": [
    "df = pd.read_csv(file)"
   ]
  },
  {
   "cell_type": "code",
   "execution_count": 154,
   "id": "d4ba3497-1b07-4c9d-a501-c3a817f23efc",
   "metadata": {},
   "outputs": [
    {
     "data": {
      "text/html": [
       "<div>\n",
       "<style scoped>\n",
       "    .dataframe tbody tr th:only-of-type {\n",
       "        vertical-align: middle;\n",
       "    }\n",
       "\n",
       "    .dataframe tbody tr th {\n",
       "        vertical-align: top;\n",
       "    }\n",
       "\n",
       "    .dataframe thead th {\n",
       "        text-align: right;\n",
       "    }\n",
       "</style>\n",
       "<table border=\"1\" class=\"dataframe\">\n",
       "  <thead>\n",
       "    <tr style=\"text-align: right;\">\n",
       "      <th></th>\n",
       "      <th>CustomerID</th>\n",
       "      <th>Gender</th>\n",
       "      <th>Age</th>\n",
       "      <th>Annual Income (k$)</th>\n",
       "      <th>Spending Score (1-100)</th>\n",
       "    </tr>\n",
       "  </thead>\n",
       "  <tbody>\n",
       "    <tr>\n",
       "      <th>0</th>\n",
       "      <td>1</td>\n",
       "      <td>Male</td>\n",
       "      <td>19</td>\n",
       "      <td>15</td>\n",
       "      <td>39</td>\n",
       "    </tr>\n",
       "    <tr>\n",
       "      <th>1</th>\n",
       "      <td>2</td>\n",
       "      <td>Male</td>\n",
       "      <td>21</td>\n",
       "      <td>15</td>\n",
       "      <td>81</td>\n",
       "    </tr>\n",
       "    <tr>\n",
       "      <th>2</th>\n",
       "      <td>3</td>\n",
       "      <td>Female</td>\n",
       "      <td>20</td>\n",
       "      <td>16</td>\n",
       "      <td>6</td>\n",
       "    </tr>\n",
       "    <tr>\n",
       "      <th>3</th>\n",
       "      <td>4</td>\n",
       "      <td>Female</td>\n",
       "      <td>23</td>\n",
       "      <td>16</td>\n",
       "      <td>77</td>\n",
       "    </tr>\n",
       "    <tr>\n",
       "      <th>4</th>\n",
       "      <td>5</td>\n",
       "      <td>Female</td>\n",
       "      <td>31</td>\n",
       "      <td>17</td>\n",
       "      <td>40</td>\n",
       "    </tr>\n",
       "  </tbody>\n",
       "</table>\n",
       "</div>"
      ],
      "text/plain": [
       "   CustomerID  Gender  Age  Annual Income (k$)  Spending Score (1-100)\n",
       "0           1    Male   19                  15                      39\n",
       "1           2    Male   21                  15                      81\n",
       "2           3  Female   20                  16                       6\n",
       "3           4  Female   23                  16                      77\n",
       "4           5  Female   31                  17                      40"
      ]
     },
     "execution_count": 154,
     "metadata": {},
     "output_type": "execute_result"
    }
   ],
   "source": [
    "df.head()"
   ]
  },
  {
   "cell_type": "code",
   "execution_count": 155,
   "id": "e070a191-5902-4398-ab68-8f34875003c6",
   "metadata": {},
   "outputs": [
    {
     "name": "stdout",
     "output_type": "stream",
     "text": [
      "<class 'pandas.core.frame.DataFrame'>\n",
      "RangeIndex: 200 entries, 0 to 199\n",
      "Data columns (total 5 columns):\n",
      " #   Column                  Non-Null Count  Dtype \n",
      "---  ------                  --------------  ----- \n",
      " 0   CustomerID              200 non-null    int64 \n",
      " 1   Gender                  200 non-null    object\n",
      " 2   Age                     200 non-null    int64 \n",
      " 3   Annual Income (k$)      200 non-null    int64 \n",
      " 4   Spending Score (1-100)  200 non-null    int64 \n",
      "dtypes: int64(4), object(1)\n",
      "memory usage: 7.9+ KB\n"
     ]
    }
   ],
   "source": [
    "df.info()"
   ]
  },
  {
   "cell_type": "code",
   "execution_count": 156,
   "id": "aa7c323e-7057-4e93-b83f-54cd14e54b49",
   "metadata": {},
   "outputs": [
    {
     "data": {
      "text/html": [
       "<div>\n",
       "<style scoped>\n",
       "    .dataframe tbody tr th:only-of-type {\n",
       "        vertical-align: middle;\n",
       "    }\n",
       "\n",
       "    .dataframe tbody tr th {\n",
       "        vertical-align: top;\n",
       "    }\n",
       "\n",
       "    .dataframe thead th {\n",
       "        text-align: right;\n",
       "    }\n",
       "</style>\n",
       "<table border=\"1\" class=\"dataframe\">\n",
       "  <thead>\n",
       "    <tr style=\"text-align: right;\">\n",
       "      <th></th>\n",
       "      <th>CustomerID</th>\n",
       "      <th>Age</th>\n",
       "      <th>Annual Income (k$)</th>\n",
       "      <th>Spending Score (1-100)</th>\n",
       "    </tr>\n",
       "  </thead>\n",
       "  <tbody>\n",
       "    <tr>\n",
       "      <th>count</th>\n",
       "      <td>200.000000</td>\n",
       "      <td>200.000000</td>\n",
       "      <td>200.000000</td>\n",
       "      <td>200.000000</td>\n",
       "    </tr>\n",
       "    <tr>\n",
       "      <th>mean</th>\n",
       "      <td>100.500000</td>\n",
       "      <td>38.850000</td>\n",
       "      <td>60.560000</td>\n",
       "      <td>50.200000</td>\n",
       "    </tr>\n",
       "    <tr>\n",
       "      <th>std</th>\n",
       "      <td>57.879185</td>\n",
       "      <td>13.969007</td>\n",
       "      <td>26.264721</td>\n",
       "      <td>25.823522</td>\n",
       "    </tr>\n",
       "    <tr>\n",
       "      <th>min</th>\n",
       "      <td>1.000000</td>\n",
       "      <td>18.000000</td>\n",
       "      <td>15.000000</td>\n",
       "      <td>1.000000</td>\n",
       "    </tr>\n",
       "    <tr>\n",
       "      <th>25%</th>\n",
       "      <td>50.750000</td>\n",
       "      <td>28.750000</td>\n",
       "      <td>41.500000</td>\n",
       "      <td>34.750000</td>\n",
       "    </tr>\n",
       "    <tr>\n",
       "      <th>50%</th>\n",
       "      <td>100.500000</td>\n",
       "      <td>36.000000</td>\n",
       "      <td>61.500000</td>\n",
       "      <td>50.000000</td>\n",
       "    </tr>\n",
       "    <tr>\n",
       "      <th>75%</th>\n",
       "      <td>150.250000</td>\n",
       "      <td>49.000000</td>\n",
       "      <td>78.000000</td>\n",
       "      <td>73.000000</td>\n",
       "    </tr>\n",
       "    <tr>\n",
       "      <th>max</th>\n",
       "      <td>200.000000</td>\n",
       "      <td>70.000000</td>\n",
       "      <td>137.000000</td>\n",
       "      <td>99.000000</td>\n",
       "    </tr>\n",
       "  </tbody>\n",
       "</table>\n",
       "</div>"
      ],
      "text/plain": [
       "       CustomerID         Age  Annual Income (k$)  Spending Score (1-100)\n",
       "count  200.000000  200.000000          200.000000              200.000000\n",
       "mean   100.500000   38.850000           60.560000               50.200000\n",
       "std     57.879185   13.969007           26.264721               25.823522\n",
       "min      1.000000   18.000000           15.000000                1.000000\n",
       "25%     50.750000   28.750000           41.500000               34.750000\n",
       "50%    100.500000   36.000000           61.500000               50.000000\n",
       "75%    150.250000   49.000000           78.000000               73.000000\n",
       "max    200.000000   70.000000          137.000000               99.000000"
      ]
     },
     "execution_count": 156,
     "metadata": {},
     "output_type": "execute_result"
    }
   ],
   "source": [
    "df.describe()"
   ]
  },
  {
   "cell_type": "code",
   "execution_count": 157,
   "id": "6e2b5eff-3cb6-49b0-ae25-97438bfb87e8",
   "metadata": {},
   "outputs": [],
   "source": [
    "def spending_group(x):\n",
    "    if  x <=33:\n",
    "        return 'low'\n",
    "    elif x > 33 and x <= 66:\n",
    "        return 'moderate'\n",
    "    else:\n",
    "        return 'high'\n",
    "    \n",
    "def income_group(x):\n",
    "    if  x <=52:\n",
    "        return 'low income'\n",
    "    elif x > 52 and x <= 156:\n",
    "        return 'middle income'\n",
    "    else:\n",
    "        return 'upper income'\n",
    "    \n",
    "def age_group(x):\n",
    "    if x >= 18 and x <=35:\n",
    "        return 'young adult'\n",
    "    elif x >= 36 and x <= 55:\n",
    "        return 'middle aged'\n",
    "    else:\n",
    "        return 'old adult'"
   ]
  },
  {
   "cell_type": "code",
   "execution_count": 158,
   "id": "aff4c6a3-f222-4453-b012-412a83c5784e",
   "metadata": {},
   "outputs": [],
   "source": [
    "df['Age Group'] = df.Age.apply(age_group)\n",
    "df['Income Group']=df['Annual Income (k$)'].apply(income_group)\n",
    "df['Spending Group']=df['Spending Score (1-100)'].apply(spending_group)"
   ]
  },
  {
   "cell_type": "code",
   "execution_count": 159,
   "id": "273e6dba-f328-4617-bd8f-1ba7d9372dbe",
   "metadata": {},
   "outputs": [
    {
     "data": {
      "text/html": [
       "<div>\n",
       "<style scoped>\n",
       "    .dataframe tbody tr th:only-of-type {\n",
       "        vertical-align: middle;\n",
       "    }\n",
       "\n",
       "    .dataframe tbody tr th {\n",
       "        vertical-align: top;\n",
       "    }\n",
       "\n",
       "    .dataframe thead th {\n",
       "        text-align: right;\n",
       "    }\n",
       "</style>\n",
       "<table border=\"1\" class=\"dataframe\">\n",
       "  <thead>\n",
       "    <tr style=\"text-align: right;\">\n",
       "      <th></th>\n",
       "      <th>CustomerID</th>\n",
       "      <th>Gender</th>\n",
       "      <th>Age</th>\n",
       "      <th>Annual Income (k$)</th>\n",
       "      <th>Spending Score (1-100)</th>\n",
       "      <th>Age Group</th>\n",
       "      <th>Income Group</th>\n",
       "      <th>Spending Group</th>\n",
       "    </tr>\n",
       "  </thead>\n",
       "  <tbody>\n",
       "    <tr>\n",
       "      <th>195</th>\n",
       "      <td>196</td>\n",
       "      <td>Female</td>\n",
       "      <td>35</td>\n",
       "      <td>120</td>\n",
       "      <td>79</td>\n",
       "      <td>young adult</td>\n",
       "      <td>middle income</td>\n",
       "      <td>high</td>\n",
       "    </tr>\n",
       "    <tr>\n",
       "      <th>196</th>\n",
       "      <td>197</td>\n",
       "      <td>Female</td>\n",
       "      <td>45</td>\n",
       "      <td>126</td>\n",
       "      <td>28</td>\n",
       "      <td>middle aged</td>\n",
       "      <td>middle income</td>\n",
       "      <td>low</td>\n",
       "    </tr>\n",
       "    <tr>\n",
       "      <th>197</th>\n",
       "      <td>198</td>\n",
       "      <td>Male</td>\n",
       "      <td>32</td>\n",
       "      <td>126</td>\n",
       "      <td>74</td>\n",
       "      <td>young adult</td>\n",
       "      <td>middle income</td>\n",
       "      <td>high</td>\n",
       "    </tr>\n",
       "    <tr>\n",
       "      <th>198</th>\n",
       "      <td>199</td>\n",
       "      <td>Male</td>\n",
       "      <td>32</td>\n",
       "      <td>137</td>\n",
       "      <td>18</td>\n",
       "      <td>young adult</td>\n",
       "      <td>middle income</td>\n",
       "      <td>low</td>\n",
       "    </tr>\n",
       "    <tr>\n",
       "      <th>199</th>\n",
       "      <td>200</td>\n",
       "      <td>Male</td>\n",
       "      <td>30</td>\n",
       "      <td>137</td>\n",
       "      <td>83</td>\n",
       "      <td>young adult</td>\n",
       "      <td>middle income</td>\n",
       "      <td>high</td>\n",
       "    </tr>\n",
       "  </tbody>\n",
       "</table>\n",
       "</div>"
      ],
      "text/plain": [
       "     CustomerID  Gender  Age  Annual Income (k$)  Spending Score (1-100)  \\\n",
       "195         196  Female   35                 120                      79   \n",
       "196         197  Female   45                 126                      28   \n",
       "197         198    Male   32                 126                      74   \n",
       "198         199    Male   32                 137                      18   \n",
       "199         200    Male   30                 137                      83   \n",
       "\n",
       "       Age Group   Income Group Spending Group  \n",
       "195  young adult  middle income           high  \n",
       "196  middle aged  middle income            low  \n",
       "197  young adult  middle income           high  \n",
       "198  young adult  middle income            low  \n",
       "199  young adult  middle income           high  "
      ]
     },
     "execution_count": 159,
     "metadata": {},
     "output_type": "execute_result"
    }
   ],
   "source": [
    "df.tail()"
   ]
  },
  {
   "cell_type": "markdown",
   "id": "d0b95144-0b3d-4b93-a8af-b98d889fe0c0",
   "metadata": {},
   "source": [
    "## Exploring gender"
   ]
  },
  {
   "cell_type": "code",
   "execution_count": 160,
   "id": "47a0fcb1-28e4-44f8-a40e-d6119aa7004c",
   "metadata": {},
   "outputs": [
    {
     "name": "stdout",
     "output_type": "stream",
     "text": [
      "['#1f77b4', '#ff7f0e', '#2ca02c', '#d62728', '#9467bd', '#8c564b', '#e377c2', '#7f7f7f', '#bcbd22', '#17becf']\n"
     ]
    }
   ],
   "source": [
    "print(sns.color_palette().as_hex())"
   ]
  },
  {
   "cell_type": "code",
   "execution_count": 161,
   "id": "9f4d5a9f-ac0d-4191-8332-2183dbf6f0aa",
   "metadata": {},
   "outputs": [
    {
     "data": {
      "image/png": "[encoded data removed]",
      "text/plain": [
       "<Figure size 864x360 with 2 Axes>"
      ]
     },
     "metadata": {
      "needs_background": "light"
     },
     "output_type": "display_data"
    }
   ],
   "source": [
    "figure,axes = plt.subplots(1,2,figsize=(12, 5))\n",
    "sns.countplot(data=df, x='Gender', ax=axes[0],palette=['#ff7f0e','#1f77b4'])\n",
    "axes[1].pie(df.Gender.value_counts(),explode=[0,0.03],labels=['Female','Male'],autopct=\"%.0f%%\");"
   ]
  },
  {
   "cell_type": "markdown",
   "id": "65314be1-9108-4ca2-8efd-23ed68c20468",
   "metadata": {},
   "source": [
    "We see that most customers are females."
   ]
  },
  {
   "cell_type": "code",
   "execution_count": 162,
   "id": "5db4146a-5bae-4c00-a290-369ded64b385",
   "metadata": {},
   "outputs": [
    {
     "data": {
      "image/png": "[encoded data removed]",
      "text/plain": [
       "<Figure size 432x288 with 1 Axes>"
      ]
     },
     "metadata": {
      "needs_background": "light"
     },
     "output_type": "display_data"
    }
   ],
   "source": [
    "sns.barplot(data=df,x='Gender',y='Spending Score (1-100)',palette=['#ff7f0e','#1f77b4']);"
   ]
  },
  {
   "cell_type": "code",
   "execution_count": 163,
   "id": "25f7c536-0393-4b3a-a6f3-9bde730af0d6",
   "metadata": {},
   "outputs": [
    {
     "data": {
      "text/html": [
       "<div>\n",
       "<style scoped>\n",
       "    .dataframe tbody tr th:only-of-type {\n",
       "        vertical-align: middle;\n",
       "    }\n",
       "\n",
       "    .dataframe tbody tr th {\n",
       "        vertical-align: top;\n",
       "    }\n",
       "\n",
       "    .dataframe thead th {\n",
       "        text-align: right;\n",
       "    }\n",
       "</style>\n",
       "<table border=\"1\" class=\"dataframe\">\n",
       "  <thead>\n",
       "    <tr style=\"text-align: right;\">\n",
       "      <th></th>\n",
       "      <th>Spending Score (1-100)</th>\n",
       "    </tr>\n",
       "    <tr>\n",
       "      <th>Gender</th>\n",
       "      <th></th>\n",
       "    </tr>\n",
       "  </thead>\n",
       "  <tbody>\n",
       "    <tr>\n",
       "      <th>Female</th>\n",
       "      <td>51.526786</td>\n",
       "    </tr>\n",
       "    <tr>\n",
       "      <th>Male</th>\n",
       "      <td>48.511364</td>\n",
       "    </tr>\n",
       "  </tbody>\n",
       "</table>\n",
       "</div>"
      ],
      "text/plain": [
       "        Spending Score (1-100)\n",
       "Gender                        \n",
       "Female               51.526786\n",
       "Male                 48.511364"
      ]
     },
     "execution_count": 163,
     "metadata": {},
     "output_type": "execute_result"
    }
   ],
   "source": [
    "pivot = df.pivot_table(index='Gender',values=['Spending Score (1-100)'],aggfunc='mean')\n",
    "pivot"
   ]
  },
  {
   "cell_type": "markdown",
   "id": "9f2b76fa-1a95-4659-992b-3f380aad9a5c",
   "metadata": {},
   "source": [
    "We can see that females on average spend more than males."
   ]
  },
  {
   "cell_type": "code",
   "execution_count": 164,
   "id": "18c99008-8805-47ae-8a71-a3ed0247c84d",
   "metadata": {},
   "outputs": [
    {
     "data": {
      "image/png": "[encoded data removed]",
      "text/plain": [
       "<Figure size 432x288 with 1 Axes>"
      ]
     },
     "metadata": {
      "needs_background": "light"
     },
     "output_type": "display_data"
    }
   ],
   "source": [
    "sns.scatterplot(data=df,x='Age',y='Spending Score (1-100)',hue='Income Group');"
   ]
  },
  {
   "cell_type": "markdown",
   "id": "fade9a7e-b151-4ba9-95d7-afe006830e3b",
   "metadata": {},
   "source": [
    "## Exploring Age"
   ]
  },
  {
   "cell_type": "code",
   "execution_count": 165,
   "id": "589858b2-6c37-4503-8355-b7def1cf6ff7",
   "metadata": {},
   "outputs": [
    {
     "data": {
      "image/png": "[encoded data removed]",
      "text/plain": [
       "<Figure size 432x288 with 1 Axes>"
      ]
     },
     "metadata": {
      "needs_background": "light"
     },
     "output_type": "display_data"
    }
   ],
   "source": [
    "sns.barplot(data=df,x='Age Group',y='Annual Income (k$)',palette=['#2ca02c','#ff7f0e','#1f77b4']);"
   ]
  },
  {
   "cell_type": "code",
   "execution_count": 166,
   "id": "83a130f6-d3a2-4617-afa1-5abf4c1a14d2",
   "metadata": {},
   "outputs": [
    {
     "data": {
      "image/png": "[encoded data removed]",
      "text/plain": [
       "<Figure size 864x360 with 2 Axes>"
      ]
     },
     "metadata": {
      "needs_background": "light"
     },
     "output_type": "display_data"
    }
   ],
   "source": [
    "figure,axes = plt.subplots(1,2,figsize=(12, 5))\n",
    "sns.barplot(data=df,x='Age Group',y='Spending Score (1-100)',ax=axes[0],palette=['#2ca02c','#ff7f0e','#1f77b4']);\n",
    "pivot = df.pivot_table(index='Age Group',values=['Spending Score (1-100)'],aggfunc='mean')\n",
    "pivot.plot(kind='pie',subplots=True,autopct=\"%.0f%%\",ax=axes[1],explode=[0,0,0.07])\n",
    "plt.ylabel('')\n",
    "plt.legend([]);"
   ]
  },
  {
   "cell_type": "markdown",
   "id": "15eb850d-40f7-46b3-9b0f-71fc069904c2",
   "metadata": {},
   "source": [
    "Young Adults on averge spend more than any age group."
   ]
  },
  {
   "cell_type": "markdown",
   "id": "edda0501-27f9-46aa-8d4b-028875daf58b",
   "metadata": {},
   "source": [
    "## Exploring Spending Score and Annual Income"
   ]
  },
  {
   "cell_type": "code",
   "execution_count": 167,
   "id": "86601bbe-910c-45b0-9f90-0992fd5781e7",
   "metadata": {},
   "outputs": [
    {
     "data": {
      "image/png": "[encoded data removed]",
      "text/plain": [
       "<Figure size 432x288 with 1 Axes>"
      ]
     },
     "metadata": {
      "needs_background": "light"
     },
     "output_type": "display_data"
    }
   ],
   "source": [
    "sns.scatterplot(data=df,x='Spending Score (1-100)',y='Annual Income (k$)')\n",
    "plt.title(\"Scatterplot of Annual income and Spending Score\");"
   ]
  },
  {
   "cell_type": "markdown",
   "id": "10f9dd81-3023-4c39-92d6-4d86bf32b8dc",
   "metadata": {},
   "source": [
    "We can see that there some grouped data points follow a pattern. The data form 'clusters'."
   ]
  },
  {
   "cell_type": "markdown",
   "id": "ed5df473-f472-46dd-af55-1be990d875e1",
   "metadata": {},
   "source": [
    "## Split"
   ]
  },
  {
   "cell_type": "markdown",
   "id": "a6b1d6f6-d737-4dda-adf8-0a3c5a589524",
   "metadata": {},
   "source": [
    "### Preprocessing"
   ]
  },
  {
   "cell_type": "code",
   "execution_count": 168,
   "id": "091e42ed-6505-4995-8742-f0a83619c121",
   "metadata": {},
   "outputs": [],
   "source": [
    "ss = StandardScaler()"
   ]
  },
  {
   "cell_type": "code",
   "execution_count": 169,
   "id": "b515c055-0e29-4e0c-8031-468775c38049",
   "metadata": {},
   "outputs": [],
   "source": [
    "X = df[['Annual Income (k$)','Spending Score (1-100)']]"
   ]
  },
  {
   "cell_type": "markdown",
   "id": "b45a7cbd-7c8f-4d5f-be09-b6c95fd33a2d",
   "metadata": {},
   "source": [
    "We will be doing segmentation using **Spending Score** and **Annual Income**."
   ]
  },
  {
   "cell_type": "code",
   "execution_count": 170,
   "id": "2ce7856f-44f8-4db2-9d60-6d2d2890c3bd",
   "metadata": {},
   "outputs": [],
   "source": [
    "X_means = ss.fit_transform(X)"
   ]
  },
  {
   "cell_type": "markdown",
   "id": "47270c9c-e5c7-4340-95cf-ce5e6e848329",
   "metadata": {},
   "source": [
    "### Train Test Split"
   ]
  },
  {
   "cell_type": "code",
   "execution_count": 171,
   "id": "c0011fa1-2c7f-4600-8eab-2b4c33f6f7f3",
   "metadata": {},
   "outputs": [],
   "source": [
    "X_train,Xtest = train_test_split(X_means , test_size=0.2, shuffle=True, random_state=42)"
   ]
  },
  {
   "cell_type": "markdown",
   "id": "b02b12b7-359e-4066-b826-c0394de354e7",
   "metadata": {},
   "source": [
    "### Elbow Plot"
   ]
  },
  {
   "cell_type": "markdown",
   "id": "7d8cc6bf-6379-4469-8b6d-f99c9cd29320",
   "metadata": {},
   "source": [
    "To find the correct number of clusters"
   ]
  },
  {
   "cell_type": "code",
   "execution_count": 172,
   "id": "ba7b6bd6-affa-43aa-a06a-523a8d37ee81",
   "metadata": {},
   "outputs": [],
   "source": [
    "inertia = []\n",
    "for i in range(1,11):\n",
    "    model = KMeans(n_clusters=i,n_init=i,init='k-means++',random_state=42)\n",
    "    model.fit(X_train)\n",
    "    inertia.append(model.inertia_)"
   ]
  },
  {
   "cell_type": "code",
   "execution_count": 173,
   "id": "f918149e-1272-478f-9de0-f30f91f467d3",
   "metadata": {},
   "outputs": [],
   "source": [
    "clusters = [i for i in range(1,11)]"
   ]
  },
  {
   "cell_type": "code",
   "execution_count": 174,
   "id": "a767c1a8-6246-49ed-aa8b-f623b593f3df",
   "metadata": {},
   "outputs": [
    {
     "data": {
      "image/png": "[encoded data removed]",
      "text/plain": [
       "<Figure size 432x288 with 1 Axes>"
      ]
     },
     "metadata": {
      "needs_background": "light"
     },
     "output_type": "display_data"
    }
   ],
   "source": [
    "plt.plot(clusters, inertia, 'x--')\n",
    "plt.title(\"Clusters vs Inertia\")\n",
    "plt.xlabel(\"Clusters\")\n",
    "plt.ylabel(\"Inertia\");"
   ]
  },
  {
   "cell_type": "code",
   "execution_count": 175,
   "id": "9595639d-9bec-4fc4-8b64-4abc5cab4a1f",
   "metadata": {},
   "outputs": [
    {
     "data": {
      "text/plain": [
       "[0.40344930706913934,\n",
       " 0.45404862424077985,\n",
       " 0.47721891230990243,\n",
       " 0.5509842461121202,\n",
       " 0.5408225711237818,\n",
       " 0.536669787130034,\n",
       " 0.4509937596508946,\n",
       " 0.4566345256771399,\n",
       " 0.4335415087980149]"
      ]
     },
     "execution_count": 175,
     "metadata": {},
     "output_type": "execute_result"
    }
   ],
   "source": [
    "silhouette_scores = []\n",
    "\n",
    "for i in range(2,11):\n",
    "    model = KMeans(n_clusters=i, n_init='auto', init='k-means++', random_state=42)\n",
    "    model.fit(X_train)\n",
    "    score = silhouette_score(X_train, model.labels_)\n",
    "    silhouette_scores.append(score)\n",
    "\n",
    "silhouette_scores"
   ]
  },
  {
   "cell_type": "code",
   "execution_count": 176,
   "id": "02c1dbbe-adb7-445e-861c-b6cdc95e3f07",
   "metadata": {},
   "outputs": [
    {
     "data": {
      "image/png": "[encoded data removed]",
      "text/plain": [
       "<Figure size 432x288 with 1 Axes>"
      ]
     },
     "metadata": {
      "needs_background": "light"
     },
     "output_type": "display_data"
    }
   ],
   "source": [
    "sns.lineplot(x=[i for i in range(2,11)], y=silhouette_scores)\n",
    "plt.title(\"Clusters vs Silhoutte Score\")\n",
    "plt.xlabel(\"Clusters\")\n",
    "plt.ylabel(\"Silhoutte Score\");"
   ]
  },
  {
   "cell_type": "markdown",
   "id": "bb367007-3809-49d9-aa5f-46208a65c1b7",
   "metadata": {},
   "source": [
    "From the elbow plot and silhoutte score we can see that the optimum number of clusters is **5**"
   ]
  },
  {
   "cell_type": "markdown",
   "id": "a66d2a9c-817f-4372-8f65-467d085ff92f",
   "metadata": {},
   "source": [
    "## Model"
   ]
  },
  {
   "cell_type": "code",
   "execution_count": 177,
   "id": "75734ad4-31ee-40f8-b602-fc1bfa570c86",
   "metadata": {},
   "outputs": [],
   "source": [
    "model = KMeans(n_clusters=5, n_init='auto', init='k-means++', random_state=42)\n",
    "model.fit(X_means)\n",
    "df['Labels'] = model.labels_"
   ]
  },
  {
   "cell_type": "code",
   "execution_count": 178,
   "id": "d6d12a2e-7afd-4e22-8cf3-4339b1681bac",
   "metadata": {},
   "outputs": [
    {
     "data": {
      "text/html": [
       "<div>\n",
       "<style scoped>\n",
       "    .dataframe tbody tr th:only-of-type {\n",
       "        vertical-align: middle;\n",
       "    }\n",
       "\n",
       "    .dataframe tbody tr th {\n",
       "        vertical-align: top;\n",
       "    }\n",
       "\n",
       "    .dataframe thead th {\n",
       "        text-align: right;\n",
       "    }\n",
       "</style>\n",
       "<table border=\"1\" class=\"dataframe\">\n",
       "  <thead>\n",
       "    <tr style=\"text-align: right;\">\n",
       "      <th></th>\n",
       "      <th>CustomerID</th>\n",
       "      <th>Gender</th>\n",
       "      <th>Age</th>\n",
       "      <th>Annual Income (k$)</th>\n",
       "      <th>Spending Score (1-100)</th>\n",
       "      <th>Age Group</th>\n",
       "      <th>Income Group</th>\n",
       "      <th>Spending Group</th>\n",
       "      <th>Labels</th>\n",
       "    </tr>\n",
       "  </thead>\n",
       "  <tbody>\n",
       "    <tr>\n",
       "      <th>0</th>\n",
       "      <td>1</td>\n",
       "      <td>Male</td>\n",
       "      <td>19</td>\n",
       "      <td>15</td>\n",
       "      <td>39</td>\n",
       "      <td>young adult</td>\n",
       "      <td>low income</td>\n",
       "      <td>moderate</td>\n",
       "      <td>2</td>\n",
       "    </tr>\n",
       "    <tr>\n",
       "      <th>1</th>\n",
       "      <td>2</td>\n",
       "      <td>Male</td>\n",
       "      <td>21</td>\n",
       "      <td>15</td>\n",
       "      <td>81</td>\n",
       "      <td>young adult</td>\n",
       "      <td>low income</td>\n",
       "      <td>high</td>\n",
       "      <td>3</td>\n",
       "    </tr>\n",
       "    <tr>\n",
       "      <th>2</th>\n",
       "      <td>3</td>\n",
       "      <td>Female</td>\n",
       "      <td>20</td>\n",
       "      <td>16</td>\n",
       "      <td>6</td>\n",
       "      <td>young adult</td>\n",
       "      <td>low income</td>\n",
       "      <td>low</td>\n",
       "      <td>2</td>\n",
       "    </tr>\n",
       "    <tr>\n",
       "      <th>3</th>\n",
       "      <td>4</td>\n",
       "      <td>Female</td>\n",
       "      <td>23</td>\n",
       "      <td>16</td>\n",
       "      <td>77</td>\n",
       "      <td>young adult</td>\n",
       "      <td>low income</td>\n",
       "      <td>high</td>\n",
       "      <td>3</td>\n",
       "    </tr>\n",
       "    <tr>\n",
       "      <th>4</th>\n",
       "      <td>5</td>\n",
       "      <td>Female</td>\n",
       "      <td>31</td>\n",
       "      <td>17</td>\n",
       "      <td>40</td>\n",
       "      <td>young adult</td>\n",
       "      <td>low income</td>\n",
       "      <td>moderate</td>\n",
       "      <td>2</td>\n",
       "    </tr>\n",
       "  </tbody>\n",
       "</table>\n",
       "</div>"
      ],
      "text/plain": [
       "   CustomerID  Gender  Age  Annual Income (k$)  Spending Score (1-100)  \\\n",
       "0           1    Male   19                  15                      39   \n",
       "1           2    Male   21                  15                      81   \n",
       "2           3  Female   20                  16                       6   \n",
       "3           4  Female   23                  16                      77   \n",
       "4           5  Female   31                  17                      40   \n",
       "\n",
       "     Age Group Income Group Spending Group  Labels  \n",
       "0  young adult   low income       moderate       2  \n",
       "1  young adult   low income           high       3  \n",
       "2  young adult   low income            low       2  \n",
       "3  young adult   low income           high       3  \n",
       "4  young adult   low income       moderate       2  "
      ]
     },
     "execution_count": 178,
     "metadata": {},
     "output_type": "execute_result"
    }
   ],
   "source": [
    "df.head()"
   ]
  },
  {
   "cell_type": "code",
   "execution_count": 179,
   "id": "ff1cea89-af4d-46cc-8edc-91800ec38ac9",
   "metadata": {},
   "outputs": [
    {
     "data": {
      "image/png": "[encoded data removed]",
      "text/plain": [
       "<Figure size 432x288 with 1 Axes>"
      ]
     },
     "metadata": {
      "needs_background": "light"
     },
     "output_type": "display_data"
    }
   ],
   "source": [
    "sns.scatterplot(data=df,\n",
    "                x=df['Spending Score (1-100)'], \n",
    "                y=df['Annual Income (k$)'], \n",
    "                hue='Labels',\n",
    "                palette=sns.color_palette()[:5]\n",
    "               )\n",
    "plt.legend(title='Cluster',bbox_to_anchor=(1,0.5));"
   ]
  },
  {
   "cell_type": "code",
   "execution_count": null,
   "id": "c5fde42f-a551-49c8-9c65-4d75ae65a822",
   "metadata": {},
   "outputs": [],
   "source": []
  }
 ],
 "metadata": {
  "kernelspec": {
   "display_name": "Python 3 (ipykernel)",
   "language": "python",
   "name": "python3"
  },
  "language_info": {
   "codemirror_mode": {
    "name": "ipython",
    "version": 3
   },
   "file_extension": ".py",
   "mimetype": "text/x-python",
   "name": "python",
   "nbconvert_exporter": "python",
   "pygments_lexer": "ipython3",
   "version": "3.9.7"
  }
 },
 "nbformat": 4,
 "nbformat_minor": 5
}
